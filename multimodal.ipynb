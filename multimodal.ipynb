{
 "cells": [
  {
   "cell_type": "code",
   "execution_count": 1,
   "metadata": {},
   "outputs": [],
   "source": [
    "import boto3\n",
    "import json\n",
    "import requests\n",
    "import openai\n",
    "from openai import OpenAI"
   ]
  },
  {
   "cell_type": "markdown",
   "metadata": {},
   "source": [
    "Perplexity multimodal"
   ]
  },
  {
   "cell_type": "code",
   "execution_count": 7,
   "metadata": {},
   "outputs": [
    {
     "name": "stdout",
     "output_type": "stream",
     "text": [
      "ChatCompletion(id='d41a656e-e835-4325-a090-c9801f475866', choices=[Choice(finish_reason='stop', index=0, logprobs=None, message=ChatCompletionMessage(content='The number of stars in our galaxy, the Milky Way, is estimated to be between 100 billion and 400 billion stars. The most commonly cited estimate is approximately 100 billion stars[1][2][5].', refusal=None, role='assistant', audio=None, function_call=None, tool_calls=None), delta={'role': 'assistant', 'content': ''})], created=1734500154, model='llama-3.1-sonar-small-128k-online', object='chat.completion', service_tier=None, system_fingerprint=None, usage=CompletionUsage(completion_tokens=45, prompt_tokens=14, total_tokens=59, completion_tokens_details=None, prompt_tokens_details=None), citations=['https://www.astronomy.com/science/astro-for-kids-how-many-stars-are-there-in-space/', 'https://www.littlepassports.com/blog/space/how-many-stars-are-in-the-universe/', 'https://www.esa.int/Science_Exploration/Space_Science/Herschel/How_many_stars_are_there_in_the_Universe', 'https://www.space.com/25959-how-many-stars-are-in-the-milky-way.html', 'https://www.youtube.com/watch?v=Py2nZYmvTKg'])\n"
     ]
    }
   ],
   "source": [
    "client = boto3.client('secretsmanager', region_name='us-west-1')\n",
    "\n",
    "\n",
    "PerplexityAPI = json.loads(client.get_secret_value(SecretId=\"PerplexityAPI_1\")[\"SecretString\"])[\"PERPLEXITY_API\"]\n",
    "\n",
    "# Perplexity API\n",
    "client_Perplexity = OpenAI(\n",
    "    api_key = PerplexityAPI,\n",
    "    base_url=\"https://api.perplexity.ai\"\n",
    ")\n",
    "\n",
    "# Define the messages as shown in the docs\n",
    "messages = [\n",
    "    {\"role\": \"system\", \"content\": \"Be precise and concise.\"},\n",
    "    {\"role\": \"user\", \"content\": \"How many stars are there in our galaxy?\"}\n",
    "]\n",
    "\n",
    "# Make the API call\n",
    "response = client_Perplexity.chat.completions.create(\n",
    "    model=\"llama-3.1-sonar-small-128k-online\",\n",
    "    messages=messages,\n",
    ")\n",
    "\n",
    "print(response)\n"
   ]
  },
  {
   "cell_type": "code",
   "execution_count": null,
   "metadata": {},
   "outputs": [],
   "source": []
  }
 ],
 "metadata": {
  "kernelspec": {
   "display_name": "aws_test1",
   "language": "python",
   "name": "python3"
  },
  "language_info": {
   "codemirror_mode": {
    "name": "ipython",
    "version": 3
   },
   "file_extension": ".py",
   "mimetype": "text/x-python",
   "name": "python",
   "nbconvert_exporter": "python",
   "pygments_lexer": "ipython3",
   "version": "3.10.10"
  }
 },
 "nbformat": 4,
 "nbformat_minor": 2
}
