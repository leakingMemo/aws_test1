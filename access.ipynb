{
 "cells": [
  {
   "cell_type": "markdown",
   "metadata": {},
   "source": [
    "This is a first test of aws secrets manager"
   ]
  },
  {
   "cell_type": "code",
   "execution_count": 50,
   "metadata": {},
   "outputs": [],
   "source": [
    "import boto3\n",
    "import json\n",
    "import requests\n",
    "import openai\n",
    "from openai import OpenAI\n",
    "from botocore.exceptions import ClientError"
   ]
  },
  {
   "cell_type": "markdown",
   "metadata": {},
   "source": [
    "Connect to the aws account to get access to secretmanager's API keys"
   ]
  },
  {
   "cell_type": "code",
   "execution_count": null,
   "metadata": {},
   "outputs": [],
   "source": [
    "#Here we use an IAM role created from the root account\n",
    "client = boto3.client('secretsmanager')\n",
    "\n",
    "REDS_test_pw = json.loads(client.get_secret_value(SecretId=\"PerplexityAPI_1\")[\"SecretString\"])[\"PERPLEXITY_API\"]\n"
   ]
  },
  {
   "cell_type": "markdown",
   "metadata": {},
   "source": [
    "Perplexity Connection"
   ]
  },
  {
   "cell_type": "code",
   "execution_count": null,
   "metadata": {},
   "outputs": [
    {
     "name": "stdout",
     "output_type": "stream",
     "text": [
      "ChatCompletion(id='f22491e3-09b5-42ea-84c4-d87d70fcb857', choices=[Choice(finish_reason='stop', index=0, logprobs=None, message=ChatCompletionMessage(content='The Milky Way galaxy is estimated to have between 100 to 400 billion stars[4][5]. More precise estimates suggest approximately 200 billion stars[1][2].', refusal=None, role='assistant', audio=None, function_call=None, tool_calls=None), delta={'role': 'assistant', 'content': ''})], created=1734498677, model='llama-3.1-sonar-small-128k-online', object='chat.completion', service_tier=None, system_fingerprint=None, usage=CompletionUsage(completion_tokens=36, prompt_tokens=14, total_tokens=50, completion_tokens_details=None, prompt_tokens_details=None), citations=['https://www.astronomy.com/science/astro-for-kids-how-many-stars-are-there-in-space/', 'https://www.littlepassports.com/blog/space/how-many-stars-are-in-the-universe/', 'https://www.esa.int/Science_Exploration/Space_Science/Herschel/How_many_stars_are_there_in_the_Universe', 'https://www.space.com/25959-how-many-stars-are-in-the-milky-way.html', 'https://www.youtube.com/watch?v=Py2nZYmvTKg'])\n"
     ]
    }
   ],
   "source": [
    "#get the secret\n",
    "PerplexityAPI = json.loads(client.get_secret_value(SecretId=\"PerplexityAPI_1\")[\"SecretString\"])[\"PERPLEXITY_API\"]\n",
    "\n",
    "\n",
    "#print(PerplexityAPI)\n",
    "\n",
    "# Perplexity API\n",
    "client_Perplexity = OpenAI(\n",
    "    api_key = PerplexityAPI,\n",
    "    base_url=\"https://api.perplexity.ai\"\n",
    ")\n",
    "\n",
    "\n",
    "# Define the messages as shown in the docs\n",
    "messages = [\n",
    "    {\"role\": \"system\", \"content\": \"Be precise and concise.\"},\n",
    "    {\"role\": \"user\", \"content\": \"How many stars are there in our galaxy?\"}\n",
    "]\n",
    "\n",
    "# Make the API call\n",
    "response = client_Perplexity.chat.completions.create(\n",
    "    model=\"llama-3.1-sonar-small-128k-online\",\n",
    "    messages=messages,\n",
    ")\n",
    "\n",
    "print(response)"
   ]
  },
  {
   "cell_type": "markdown",
   "metadata": {},
   "source": [
    "chatGPT connection"
   ]
  },
  {
   "cell_type": "code",
   "execution_count": null,
   "metadata": {},
   "outputs": [
    {
     "name": "stdout",
     "output_type": "stream",
     "text": [
      "ChatCompletionMessage(content='Calling back with grace,  \\nFunctions loop in endless dance,  \\nDepths of thought embrace.', refusal=None, role='assistant', audio=None, function_call=None, tool_calls=None)\n"
     ]
    }
   ],
   "source": [
    "gptAPI = json.loads(client.get_secret_value(SecretId=\"openAI_1\")[\"SecretString\"])[\"openAI_1\"] #chatGPT \n",
    "\n",
    "\n",
    "#openai package is 1.57.4 as of 12/15/2024\n",
    "\n",
    "# OpenAI API\n",
    "client_openAI = OpenAI( \n",
    "        api_key = gptAPI,\n",
    "        base_url = \"https://api.openai.com/v1/\"\n",
    "    \n",
    ")\n",
    "\n",
    "completion = client_openAI.chat.completions.create(\n",
    "    model=\"gpt-4o-mini\",\n",
    "    messages=[\n",
    "        {\"role\": \"system\", \"content\": \"You are a helpful assistant.\"},\n",
    "        {\n",
    "            \"role\": \"user\",\n",
    "            \"content\": \"Write a haiku about recursion in programming.\"\n",
    "        }\n",
    "    ]\n",
    ")\n",
    "\n",
    "print(completion.choices[0].message)\n"
   ]
  },
  {
   "cell_type": "markdown",
   "metadata": {},
   "source": [
    "Bedrock connection"
   ]
  },
  {
   "cell_type": "code",
   "execution_count": 44,
   "metadata": {},
   "outputs": [
    {
     "name": "stdout",
     "output_type": "stream",
     "text": [
      "{'output': {'message': {'content': [{'text': 'Possibly, but it depends on the specific implementation and use case.'}], 'role': 'assistant'}}, 'stopReason': 'end_turn', 'usage': {'inputTokens': 38, 'outputTokens': 13, 'totalTokens': 51}}\n"
     ]
    }
   ],
   "source": [
    "import json\n",
    "import boto3\n",
    "\n",
    "client = boto3.client('bedrock-runtime', region_name='us-west-2')\n",
    "\n",
    "# Create a Bedrock client\n",
    "bedrock = boto3.client(service_name=\"bedrock\")\n",
    "\n",
    "# Set the model ID\n",
    "model_id = \"us.amazon.nova-lite-v1:0\"\n",
    "\n",
    "# Define the prompt\n",
    "prompt = \"Do you think a foundation model's vision capability would exceed a resnet50 trained model for manufactuing defect identification and reporting? give me the short answer only\"\n",
    "\n",
    "# Format the request payload using the model's native structure\n",
    "request_body = {\n",
    "    \"schemaVersion\": \"messages-v1\",\n",
    "    \"messages\": [\n",
    "        {\"role\": \"user\", \"content\": [{\"text\": prompt}]}\n",
    "    ],\n",
    "    \"system\": [\n",
    "        {\"text\": \"You are helpful \"}\n",
    "    ],\n",
    "    \"inferenceConfig\": {\n",
    "        \"max_new_tokens\": 500,\n",
    "        \"top_p\": 0.9,\n",
    "        \"top_k\": 20,\n",
    "        \"temperature\": 0.7\n",
    "    }\n",
    "}\n",
    "\n",
    "# Convert the request to JSON\n",
    "request = json.dumps(request_body)\n",
    "\n",
    "# Invoke the model\n",
    "response = client.invoke_model(modelId=model_id, body=request)\n",
    "\n",
    "# Decode the response\n",
    "model_response = json.loads(response[\"body\"].read())\n",
    "\n",
    "# Extract and print the response text\n",
    "print(model_response)"
   ]
  },
  {
   "cell_type": "code",
   "execution_count": null,
   "metadata": {},
   "outputs": [],
   "source": []
  }
 ],
 "metadata": {
  "kernelspec": {
   "display_name": "aws_test1",
   "language": "python",
   "name": "python3"
  },
  "language_info": {
   "codemirror_mode": {
    "name": "ipython",
    "version": 3
   },
   "file_extension": ".py",
   "mimetype": "text/x-python",
   "name": "python",
   "nbconvert_exporter": "python",
   "pygments_lexer": "ipython3",
   "version": "3.10.10"
  }
 },
 "nbformat": 4,
 "nbformat_minor": 2
}
